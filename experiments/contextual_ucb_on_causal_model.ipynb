{
 "cells": [
  {
   "cell_type": "code",
   "execution_count": 1,
   "id": "1bf10dc6-e73b-47dc-b45a-6a91d60fcee0",
   "metadata": {
    "editable": true,
    "slideshow": {
     "slide_type": ""
    },
    "tags": []
   },
   "outputs": [
    {
     "name": "stderr",
     "output_type": "stream",
     "text": [
      "/home/fsimoes/.virtualenvs/minimal-set-intervention-selection-lcn_Dakt/lib/python3.10/site-packages/tqdm/auto.py:21: TqdmWarning: IProgress not found. Please update jupyter and ipywidgets. See https://ipywidgets.readthedocs.io/en/stable/user_install.html\n",
      "  from .autonotebook import tqdm as notebook_tqdm\n"
     ]
    }
   ],
   "source": [
    "from pgmpy.models import BayesianNetwork\n",
    "from pgmpy.factors.discrete.CPD import TabularCPD\n",
    "from IPython.display import Image\n",
    "import numpy as np"
   ]
  },
  {
   "cell_type": "markdown",
   "id": "f40bf60f-e50b-45ff-b6c2-bcc63ac8f01c",
   "metadata": {},
   "source": [
    "# Define CBN"
   ]
  },
  {
   "cell_type": "markdown",
   "id": "3b439e57-d25a-49e9-9a9e-7314b5170cc2",
   "metadata": {},
   "source": [
    "## The graph"
   ]
  },
  {
   "cell_type": "code",
   "execution_count": 2,
   "id": "14fbce6f-9c6a-4285-af09-59b740c2144f",
   "metadata": {},
   "outputs": [],
   "source": [
    "net = BayesianNetwork()\n",
    "net.add_nodes_from(['X1', 'X2', 'X3', 'X4', 'Y', 'W'])\n",
    "net.add_edges_from(\n",
    "    [('X1', 'Y'),\n",
    "     ('X2', 'X1'),\n",
    "     ('X2', 'X3'),\n",
    "     ('W', 'X2'),\n",
    "     ('W', 'X4'),\n",
    "     ('X4', 'X3'),\n",
    "     ('X4', 'Y')])"
   ]
  },
  {
   "cell_type": "code",
   "execution_count": 3,
   "id": "891277c7-c4c6-4403-91bf-cb52089de229",
   "metadata": {},
   "outputs": [
    {
     "data": {
      "image/png": "[encoded data removed]",
      "text/plain": [
       "<IPython.core.display.Image object>"
      ]
     },
     "execution_count": 3,
     "metadata": {},
     "output_type": "execute_result"
    }
   ],
   "source": [
    "graph = net.to_graphviz()\n",
    "graph.draw('confounded_m.png', prog='dot')\n",
    "Image('confounded_m.png')"
   ]
  },
  {
   "cell_type": "markdown",
   "id": "a70f204e-aeeb-4818-a16d-83832da782eb",
   "metadata": {},
   "source": [
    "## The CPDs"
   ]
  },
  {
   "cell_type": "code",
   "execution_count": 4,
   "id": "eccb9a5f-cd7c-479c-80cb-a2e5a2b5e3c3",
   "metadata": {},
   "outputs": [],
   "source": [
    "# Bernoulli probabilities\n",
    "bw = 0.5\n",
    "bxi = 0.1\n",
    "by = 0.2"
   ]
  },
  {
   "cell_type": "markdown",
   "id": "fc34f185-5d83-4ce8-99a7-dcdaf29d2779",
   "metadata": {},
   "source": [
    "#### Structural assignments behind the CPDs:\n",
    "$$\n",
    "\\begin{cases}\n",
    "    W \\coloneqq N_W \\\\\n",
    "    X_2 \\coloneqq (W+1 \\mod 2) + N_{X_2} \\\\\n",
    "    X_4 \\coloneqq W + N_{X_4} \\\\\n",
    "    X_3 \\coloneqq X_2 \\lor X_4 + N_{X_3}\\\\\n",
    "    X_1 \\coloneqq X_2 + N_{X_1}\\\\\n",
    "    Y \\coloneqq X_1 \\land X_4 + N_{Y}\\\\\n",
    "    N_{W} \\sim \\mathrm{Bern}(b_{W}) \\\\\n",
    "    N_{X_i} \\sim \\mathrm{Bern}(b_{X_i}) \\\\\n",
    "    N_{Y} \\sim \\mathrm{Bern}(b_{Y}) \n",
    "\\end{cases}\n",
    "$$\n",
    "\n",
    "Notice that, most of the time, $X_1$ will differ from $X_4$ so that $Y$ will often be $0$.\n",
    "Interventions on $W$ will not solve this issue.\n",
    "Nonetheless, setting $X_4$ to $1$ when $W$ is $0$, and to $0$ when $W$ is $1$, will increase the odds that $X_1 = X_4$.\n",
    "However, there is an even better choice: setting $X_1$ to be equal to $W$. Indeed, this conditional intervention leads to a situation where $X_1 = X_4$ in $0.9$ percent of the cases, while the aforementioned conditional intervention on $X_4$ would lead to $X_1 = X_4$ in $0.9^2 + 0.1^2 \\approx 0.8$ of the cases.\n",
    "\n",
    "Therefore, the intervention intervention corresponds to the policy $W=0 \\rightarrow X_1 = 0, \\  W=1 \\rightarrow X_1 = 1$. "
   ]
  },
  {
   "cell_type": "code",
   "execution_count": 5,
   "id": "2c7eccf6-8f32-4d7e-af47-25db335b67ff",
   "metadata": {},
   "outputs": [],
   "source": [
    "Wcpd_table = np.array([ [1 - bw, bw] ]).T\n",
    "X2cpd_table = np.array([\n",
    "    [bxi, 1 - bxi],\n",
    "    [1 - bxi, bxi]\n",
    "])\n",
    "X4cpd_table = np.array([\n",
    "    [1 - bxi, bxi],\n",
    "    [bxi, 1 - bxi]\n",
    "])\n",
    "# TODO: fill the other tables.\n",
    "\n",
    "#X1cpd_table = np.array([\n",
    "#    [],\n",
    "#    []\n",
    "#])\n",
    "#X3cpd_table = np.array([\n",
    "#    [1 - bxi, bxi],\n",
    "#    [bxi, 1 - bxi] \n",
    "#])\n",
    "#X4cpd_table = np.array([\n",
    "#    [1 - bxi, bxi],\n",
    "#    [bxi, 1 - bxi] \n",
    "#])\n",
    "#Wcpd_table = np.array([ [1 - bs, bs] ]).T\n",
    "#Ycpd_table = np.array([ [1 - bs, bs] ]).T"
   ]
  },
  {
   "cell_type": "code",
   "execution_count": 6,
   "id": "f02ea332-f8cd-4bec-b101-dfcd69475235",
   "metadata": {},
   "outputs": [],
   "source": [
    "X2cpd = TabularCPD('X2', variable_card=2, values=X2cpd_table, evidence=['W'], evidence_card=[2]) \n",
    "X4cpd = TabularCPD('X4', variable_card=2, values=X4cpd_table, evidence=['W'], evidence_card=[2]) "
   ]
  },
  {
   "cell_type": "code",
   "execution_count": 7,
   "id": "0f194f1a-d196-4a6b-83d9-a3ecb34f62aa",
   "metadata": {},
   "outputs": [
    {
     "name": "stdout",
     "output_type": "stream",
     "text": [
      "+-------+------+------+\n",
      "| W     | W(0) | W(1) |\n",
      "+-------+------+------+\n",
      "| X2(0) | 0.1  | 0.9  |\n",
      "+-------+------+------+\n",
      "| X2(1) | 0.9  | 0.1  |\n",
      "+-------+------+------+\n",
      "+-------+------+------+\n",
      "| W     | W(0) | W(1) |\n",
      "+-------+------+------+\n",
      "| X4(0) | 0.9  | 0.1  |\n",
      "+-------+------+------+\n",
      "| X4(1) | 0.1  | 0.9  |\n",
      "+-------+------+------+\n"
     ]
    }
   ],
   "source": [
    "print(X2cpd)\n",
    "print(X4cpd)"
   ]
  },
  {
   "cell_type": "code",
   "execution_count": 3,
   "id": "84b1b7cd-5f7b-428c-b6e9-f072d1e5add6",
   "metadata": {},
   "outputs": [
    {
     "data": {
      "text/plain": [
       "(2,)"
      ]
     },
     "execution_count": 3,
     "metadata": {},
     "output_type": "execute_result"
    }
   ],
   "source": [
    "import numpy as np\n",
    "a = np.zeros((2,3))\n",
    "a.shape[0:1]"
   ]
  },
  {
   "cell_type": "code",
   "execution_count": null,
   "id": "2fa82576-fc82-41b2-8e1c-34b9b22454c8",
   "metadata": {},
   "outputs": [],
   "source": []
  }
 ],
 "metadata": {
  "kernelspec": {
   "display_name": "Python 3 (ipykernel)",
   "language": "python",
   "name": "python3"
  },
  "language_info": {
   "codemirror_mode": {
    "name": "ipython",
    "version": 3
   },
   "file_extension": ".py",
   "mimetype": "text/x-python",
   "name": "python",
   "nbconvert_exporter": "python",
   "pygments_lexer": "ipython3",
   "version": "3.10.12"
  }
 },
 "nbformat": 4,
 "nbformat_minor": 5
}
